{
 "cells": [
  {
   "cell_type": "code",
   "execution_count": 1,
   "metadata": {
    "collapsed": true,
    "jupyter": {
     "outputs_hidden": true
    },
    "tags": []
   },
   "outputs": [
    {
     "name": "stdout",
     "output_type": "stream",
     "text": [
      "Requirement already satisfied: imbalanced-learn==0.9.0 in /opt/anaconda3/envs/mlenv/lib/python3.7/site-packages (0.9.0)\n",
      "Requirement already satisfied: scipy>=1.1.0 in /opt/anaconda3/envs/mlenv/lib/python3.7/site-packages (from imbalanced-learn==0.9.0) (1.7.3)\n",
      "Requirement already satisfied: joblib>=0.11 in /opt/anaconda3/envs/mlenv/lib/python3.7/site-packages (from imbalanced-learn==0.9.0) (1.1.0)\n",
      "Requirement already satisfied: threadpoolctl>=2.0.0 in /opt/anaconda3/envs/mlenv/lib/python3.7/site-packages (from imbalanced-learn==0.9.0) (2.2.0)\n",
      "Requirement already satisfied: scikit-learn>=1.0.1 in /opt/anaconda3/envs/mlenv/lib/python3.7/site-packages (from imbalanced-learn==0.9.0) (1.0.1)\n",
      "Requirement already satisfied: numpy>=1.14.6 in /opt/anaconda3/envs/mlenv/lib/python3.7/site-packages (from imbalanced-learn==0.9.0) (1.21.5)\n",
      "Note: you may need to restart the kernel to use updated packages.\n"
     ]
    }
   ],
   "source": [
    "pip install imbalanced-learn==0.9.0"
   ]
  },
  {
   "cell_type": "code",
   "execution_count": 2,
   "metadata": {
    "collapsed": true,
    "jupyter": {
     "outputs_hidden": true
    },
    "tags": []
   },
   "outputs": [
    {
     "name": "stdout",
     "output_type": "stream",
     "text": [
      "Requirement already satisfied: scikit-learn==1.0.1 in /opt/anaconda3/envs/mlenv/lib/python3.7/site-packages (1.0.1)\n",
      "Requirement already satisfied: scipy>=1.1.0 in /opt/anaconda3/envs/mlenv/lib/python3.7/site-packages (from scikit-learn==1.0.1) (1.7.3)\n",
      "Requirement already satisfied: threadpoolctl>=2.0.0 in /opt/anaconda3/envs/mlenv/lib/python3.7/site-packages (from scikit-learn==1.0.1) (2.2.0)\n",
      "Requirement already satisfied: joblib>=0.11 in /opt/anaconda3/envs/mlenv/lib/python3.7/site-packages (from scikit-learn==1.0.1) (1.1.0)\n",
      "Requirement already satisfied: numpy>=1.14.6 in /opt/anaconda3/envs/mlenv/lib/python3.7/site-packages (from scikit-learn==1.0.1) (1.21.5)\n",
      "Note: you may need to restart the kernel to use updated packages.\n"
     ]
    }
   ],
   "source": [
    "pip install scikit-learn==1.0.1"
   ]
  },
  {
   "cell_type": "code",
   "execution_count": 3,
   "metadata": {},
   "outputs": [],
   "source": [
    "import warnings\n",
    "warnings.filterwarnings('ignore')"
   ]
  },
  {
   "cell_type": "code",
   "execution_count": 4,
   "metadata": {},
   "outputs": [],
   "source": [
    "import numpy as np\n",
    "import pandas as pd\n",
    "from pathlib import Path\n",
    "from collections import Counter"
   ]
  },
  {
   "cell_type": "code",
   "execution_count": 5,
   "metadata": {},
   "outputs": [],
   "source": [
    "from sklearn.metrics import balanced_accuracy_score\n",
    "from sklearn.metrics import confusion_matrix\n",
    "from imblearn.metrics import classification_report_imbalanced\n",
    "from sklearn.model_selection import train_test_split\n",
    "from sklearn.preprocessing import StandardScaler"
   ]
  },
  {
   "cell_type": "code",
   "execution_count": 6,
   "metadata": {},
   "outputs": [],
   "source": [
    "from imblearn.ensemble import BalancedRandomForestClassifier\n"
   ]
  },
  {
   "cell_type": "code",
   "execution_count": 7,
   "metadata": {
    "tags": []
   },
   "outputs": [
    {
     "data": {
      "text/html": [
       "<div>\n",
       "<style scoped>\n",
       "    .dataframe tbody tr th:only-of-type {\n",
       "        vertical-align: middle;\n",
       "    }\n",
       "\n",
       "    .dataframe tbody tr th {\n",
       "        vertical-align: top;\n",
       "    }\n",
       "\n",
       "    .dataframe thead th {\n",
       "        text-align: right;\n",
       "    }\n",
       "</style>\n",
       "<table border=\"1\" class=\"dataframe\">\n",
       "  <thead>\n",
       "    <tr style=\"text-align: right;\">\n",
       "      <th></th>\n",
       "      <th>anime_id</th>\n",
       "      <th>type</th>\n",
       "      <th>score</th>\n",
       "      <th>scored_by</th>\n",
       "      <th>episodes</th>\n",
       "      <th>start_date</th>\n",
       "      <th>source</th>\n",
       "      <th>rating</th>\n",
       "      <th>sfw</th>\n",
       "      <th>start_season</th>\n",
       "      <th>demographics</th>\n",
       "      <th>studios</th>\n",
       "      <th>producers</th>\n",
       "      <th>licensors</th>\n",
       "      <th>keywords</th>\n",
       "    </tr>\n",
       "  </thead>\n",
       "  <tbody>\n",
       "    <tr>\n",
       "      <th>0</th>\n",
       "      <td>5114</td>\n",
       "      <td>tv</td>\n",
       "      <td>9.13</td>\n",
       "      <td>1871705</td>\n",
       "      <td>64.0</td>\n",
       "      <td>2009-04-05</td>\n",
       "      <td>Non-Original</td>\n",
       "      <td>r</td>\n",
       "      <td>True</td>\n",
       "      <td>spring</td>\n",
       "      <td>['Shounen']</td>\n",
       "      <td>['Bones']</td>\n",
       "      <td>['Aniplex', 'Square Enix', 'Mainichi Broadcast...</td>\n",
       "      <td>['Funimation', 'Aniplex of America']</td>\n",
       "      <td>['Action', 'Adventure', 'Drama', 'Fantasy', 'M...</td>\n",
       "    </tr>\n",
       "    <tr>\n",
       "      <th>1</th>\n",
       "      <td>11061</td>\n",
       "      <td>tv</td>\n",
       "      <td>9.04</td>\n",
       "      <td>1509622</td>\n",
       "      <td>148.0</td>\n",
       "      <td>2011-10-02</td>\n",
       "      <td>Non-Original</td>\n",
       "      <td>pg_13</td>\n",
       "      <td>True</td>\n",
       "      <td>fall</td>\n",
       "      <td>['Shounen']</td>\n",
       "      <td>['Madhouse']</td>\n",
       "      <td>['VAP', 'Nippon Television Network', 'Shueisha']</td>\n",
       "      <td>['VIZ Media']</td>\n",
       "      <td>['Action', 'Adventure', 'Fantasy']</td>\n",
       "    </tr>\n",
       "    <tr>\n",
       "      <th>2</th>\n",
       "      <td>38524</td>\n",
       "      <td>tv</td>\n",
       "      <td>9.07</td>\n",
       "      <td>1329500</td>\n",
       "      <td>10.0</td>\n",
       "      <td>2019-04-29</td>\n",
       "      <td>Non-Original</td>\n",
       "      <td>r</td>\n",
       "      <td>True</td>\n",
       "      <td>spring</td>\n",
       "      <td>['Shounen']</td>\n",
       "      <td>['Wit Studio']</td>\n",
       "      <td>['Production I.G', 'Dentsu', 'Mainichi Broadca...</td>\n",
       "      <td>['Funimation']</td>\n",
       "      <td>['Action', 'Drama', 'Gore', 'Military', 'Survi...</td>\n",
       "    </tr>\n",
       "    <tr>\n",
       "      <th>3</th>\n",
       "      <td>9253</td>\n",
       "      <td>tv</td>\n",
       "      <td>9.08</td>\n",
       "      <td>1252286</td>\n",
       "      <td>24.0</td>\n",
       "      <td>2011-04-06</td>\n",
       "      <td>Non-Original</td>\n",
       "      <td>pg_13</td>\n",
       "      <td>True</td>\n",
       "      <td>spring</td>\n",
       "      <td>[]</td>\n",
       "      <td>['White Fox']</td>\n",
       "      <td>['Frontier Works', 'Media Factory', 'Movic', '...</td>\n",
       "      <td>['Funimation']</td>\n",
       "      <td>['Drama', 'Sci-Fi', 'Suspense', 'Psychological...</td>\n",
       "    </tr>\n",
       "    <tr>\n",
       "      <th>4</th>\n",
       "      <td>28851</td>\n",
       "      <td>movie</td>\n",
       "      <td>8.95</td>\n",
       "      <td>1398608</td>\n",
       "      <td>1.0</td>\n",
       "      <td>2016-09-17</td>\n",
       "      <td>Non-Original</td>\n",
       "      <td>pg_13</td>\n",
       "      <td>True</td>\n",
       "      <td>summer</td>\n",
       "      <td>['Shounen']</td>\n",
       "      <td>['Kyoto Animation']</td>\n",
       "      <td>['Shochiku', 'Pony Canyon', 'Kodansha', 'ABC A...</td>\n",
       "      <td>['Eleven Arts', 'NYAV Post']</td>\n",
       "      <td>['Drama', 'Romantic Subtext']</td>\n",
       "    </tr>\n",
       "  </tbody>\n",
       "</table>\n",
       "</div>"
      ],
      "text/plain": [
       "   anime_id   type  score  scored_by  episodes  start_date        source  \\\n",
       "0      5114     tv   9.13    1871705      64.0  2009-04-05  Non-Original   \n",
       "1     11061     tv   9.04    1509622     148.0  2011-10-02  Non-Original   \n",
       "2     38524     tv   9.07    1329500      10.0  2019-04-29  Non-Original   \n",
       "3      9253     tv   9.08    1252286      24.0  2011-04-06  Non-Original   \n",
       "4     28851  movie   8.95    1398608       1.0  2016-09-17  Non-Original   \n",
       "\n",
       "  rating   sfw start_season demographics              studios  \\\n",
       "0      r  True       spring  ['Shounen']            ['Bones']   \n",
       "1  pg_13  True         fall  ['Shounen']         ['Madhouse']   \n",
       "2      r  True       spring  ['Shounen']       ['Wit Studio']   \n",
       "3  pg_13  True       spring           []        ['White Fox']   \n",
       "4  pg_13  True       summer  ['Shounen']  ['Kyoto Animation']   \n",
       "\n",
       "                                           producers  \\\n",
       "0  ['Aniplex', 'Square Enix', 'Mainichi Broadcast...   \n",
       "1   ['VAP', 'Nippon Television Network', 'Shueisha']   \n",
       "2  ['Production I.G', 'Dentsu', 'Mainichi Broadca...   \n",
       "3  ['Frontier Works', 'Media Factory', 'Movic', '...   \n",
       "4  ['Shochiku', 'Pony Canyon', 'Kodansha', 'ABC A...   \n",
       "\n",
       "                              licensors  \\\n",
       "0  ['Funimation', 'Aniplex of America']   \n",
       "1                         ['VIZ Media']   \n",
       "2                        ['Funimation']   \n",
       "3                        ['Funimation']   \n",
       "4          ['Eleven Arts', 'NYAV Post']   \n",
       "\n",
       "                                            keywords  \n",
       "0  ['Action', 'Adventure', 'Drama', 'Fantasy', 'M...  \n",
       "1                 ['Action', 'Adventure', 'Fantasy']  \n",
       "2  ['Action', 'Drama', 'Gore', 'Military', 'Survi...  \n",
       "3  ['Drama', 'Sci-Fi', 'Suspense', 'Psychological...  \n",
       "4                      ['Drama', 'Romantic Subtext']  "
      ]
     },
     "execution_count": 7,
     "metadata": {},
     "output_type": "execute_result"
    }
   ],
   "source": [
    "# Load the data\n",
    "# import clean anime csv (RTR)\n",
    "url = 'https://raw.githubusercontent.com/Megreid23/final_project/main/clean_anime.csv'\n",
    "clean_anime_df = pd.read_csv(url)\n",
    "\n",
    "# clean_anime_df.head()\n",
    "\n",
    "# combine manga, visual_novel, light_novel, game, novel, other, 4_koma_manga, and web_manga into source\n",
    "x = {'x': 'Original'}   \n",
    "clean_anime_df = clean_anime_df.replace(x)\n",
    "\n",
    "x = dict.fromkeys(['manga', 'visual_novel', 'light_novel', 'game', 'novel', 'other', '4_koma_manga', \"web_manga\"], 'Non-Original')    \n",
    "clean_anime_df = clean_anime_df.replace(x)\n",
    "\n",
    "clean_anime_df.reset_index(inplace=True, drop=True)\n",
    "\n",
    "\n",
    "\n",
    "clean_anime_df.head()\n"
   ]
  },
  {
   "cell_type": "code",
   "execution_count": 8,
   "metadata": {},
   "outputs": [],
   "source": [
    "# Create our features (in testing)\n",
    "\n",
    "feature_df = clean_anime_df.drop(columns=[\"source\", \"demographics\", \"anime_id\",])\n",
    "\n",
    "feature_df.value_counts()\n",
    "\n",
    "X = feature_df"
   ]
  },
  {
   "cell_type": "code",
   "execution_count": 9,
   "metadata": {},
   "outputs": [
    {
     "data": {
      "text/plain": [
       "Non-Original    7714\n",
       "original        2892\n",
       "Name: source, dtype: int64"
      ]
     },
     "execution_count": 9,
     "metadata": {},
     "output_type": "execute_result"
    }
   ],
   "source": [
    "# Create our target\n",
    "y = clean_anime_df[\"source\"]\n",
    "y.value_counts()"
   ]
  },
  {
   "cell_type": "code",
   "execution_count": 10,
   "metadata": {},
   "outputs": [
    {
     "data": {
      "text/plain": [
       "(10606, 13424)"
      ]
     },
     "execution_count": 10,
     "metadata": {},
     "output_type": "execute_result"
    }
   ],
   "source": [
    "#Get Dummies\n",
    "X_encoded = pd.get_dummies(X)\n",
    "X_encoded.shape"
   ]
  },
  {
   "cell_type": "code",
   "execution_count": 11,
   "metadata": {},
   "outputs": [],
   "source": [
    "data_scaler = StandardScaler()"
   ]
  },
  {
   "cell_type": "code",
   "execution_count": 12,
   "metadata": {
    "tags": []
   },
   "outputs": [],
   "source": [
    "X_encoded_scaled = data_scaler.fit_transform(X_encoded)\n",
    "# X_encoded_scaled[:1]"
   ]
  },
  {
   "cell_type": "code",
   "execution_count": 13,
   "metadata": {},
   "outputs": [],
   "source": [
    "# from sklearn.model_selection import train_test_split\n",
    "X_train, X_test, y_train, y_test = train_test_split(X_encoded_scaled, y, random_state = 1)"
   ]
  },
  {
   "cell_type": "code",
   "execution_count": 14,
   "metadata": {},
   "outputs": [
    {
     "data": {
      "text/plain": [
       "Non-Original    5766\n",
       "original        2188\n",
       "Name: source, dtype: int64"
      ]
     },
     "execution_count": 14,
     "metadata": {},
     "output_type": "execute_result"
    }
   ],
   "source": [
    "y_train.value_counts()"
   ]
  },
  {
   "cell_type": "markdown",
   "metadata": {},
   "source": [
    "### Balanced Random Forest Classifier"
   ]
  },
  {
   "cell_type": "code",
   "execution_count": 15,
   "metadata": {
    "tags": []
   },
   "outputs": [],
   "source": [
    "# Resample the training data with the Balanced Random Fores tClassifier\n",
    "# model / fit / predict\n",
    "\n",
    "# model\n",
    "brf_model = BalancedRandomForestClassifier(n_estimators= 100,\n",
    "                                           random_state=1)\n",
    "# fit model\n",
    "brf_model = brf_model.fit(X_train, y_train)\n",
    "\n",
    "predictions = brf_model.predict(X_test)\n",
    "\n"
   ]
  },
  {
   "cell_type": "code",
   "execution_count": 16,
   "metadata": {},
   "outputs": [
    {
     "data": {
      "text/plain": [
       "0.7583827235392944"
      ]
     },
     "execution_count": 16,
     "metadata": {},
     "output_type": "execute_result"
    }
   ],
   "source": [
    "# Calculated the balanced accuracy score\n",
    "balanced_accuracy_score(y_test, predictions)"
   ]
  },
  {
   "cell_type": "code",
   "execution_count": 17,
   "metadata": {},
   "outputs": [
    {
     "data": {
      "text/plain": [
       "array([[1549,  399],\n",
       "       [ 196,  508]])"
      ]
     },
     "execution_count": 17,
     "metadata": {},
     "output_type": "execute_result"
    }
   ],
   "source": [
    "# Display the confusion matrix\n",
    "confusion_matrix(y_test, predictions)"
   ]
  },
  {
   "cell_type": "code",
   "execution_count": 18,
   "metadata": {},
   "outputs": [
    {
     "name": "stdout",
     "output_type": "stream",
     "text": [
      "                    pre       rec       spe        f1       geo       iba       sup\n",
      "\n",
      "Non-Original       0.89      0.80      0.72      0.84      0.76      0.58      1948\n",
      "    original       0.56      0.72      0.80      0.63      0.76      0.57       704\n",
      "\n",
      " avg / total       0.80      0.78      0.74      0.78      0.76      0.58      2652\n",
      "\n"
     ]
    }
   ],
   "source": [
    "# Print the imbalanced classification report\n",
    "print(classification_report_imbalanced(y_test, predictions))"
   ]
  },
  {
   "cell_type": "code",
   "execution_count": 19,
   "metadata": {
    "tags": []
   },
   "outputs": [
    {
     "data": {
      "text/html": [
       "<div>\n",
       "<style scoped>\n",
       "    .dataframe tbody tr th:only-of-type {\n",
       "        vertical-align: middle;\n",
       "    }\n",
       "\n",
       "    .dataframe tbody tr th {\n",
       "        vertical-align: top;\n",
       "    }\n",
       "\n",
       "    .dataframe thead th {\n",
       "        text-align: right;\n",
       "    }\n",
       "</style>\n",
       "<table border=\"1\" class=\"dataframe\">\n",
       "  <thead>\n",
       "    <tr style=\"text-align: right;\">\n",
       "      <th></th>\n",
       "      <th>feature</th>\n",
       "      <th>importance</th>\n",
       "    </tr>\n",
       "  </thead>\n",
       "  <tbody>\n",
       "    <tr>\n",
       "      <th>2</th>\n",
       "      <td>scored_by</td>\n",
       "      <td>0.056784</td>\n",
       "    </tr>\n",
       "    <tr>\n",
       "      <th>1</th>\n",
       "      <td>score</td>\n",
       "      <td>0.044522</td>\n",
       "    </tr>\n",
       "    <tr>\n",
       "      <th>0</th>\n",
       "      <td>anime_id</td>\n",
       "      <td>0.039403</td>\n",
       "    </tr>\n",
       "    <tr>\n",
       "      <th>3</th>\n",
       "      <td>episodes</td>\n",
       "      <td>0.025623</td>\n",
       "    </tr>\n",
       "    <tr>\n",
       "      <th>5355</th>\n",
       "      <td>rating_g</td>\n",
       "      <td>0.016197</td>\n",
       "    </tr>\n",
       "    <tr>\n",
       "      <th>6288</th>\n",
       "      <td>studios_['Sunrise']</td>\n",
       "      <td>0.012776</td>\n",
       "    </tr>\n",
       "    <tr>\n",
       "      <th>6476</th>\n",
       "      <td>studios_[]</td>\n",
       "      <td>0.011058</td>\n",
       "    </tr>\n",
       "    <tr>\n",
       "      <th>5360</th>\n",
       "      <td>rating_rx</td>\n",
       "      <td>0.008816</td>\n",
       "    </tr>\n",
       "    <tr>\n",
       "      <th>9931</th>\n",
       "      <td>producers_[]</td>\n",
       "      <td>0.008563</td>\n",
       "    </tr>\n",
       "    <tr>\n",
       "      <th>7</th>\n",
       "      <td>type_ova</td>\n",
       "      <td>0.007894</td>\n",
       "    </tr>\n",
       "  </tbody>\n",
       "</table>\n",
       "</div>"
      ],
      "text/plain": [
       "                  feature  importance\n",
       "2               scored_by    0.056784\n",
       "1                   score    0.044522\n",
       "0                anime_id    0.039403\n",
       "3                episodes    0.025623\n",
       "5355             rating_g    0.016197\n",
       "6288  studios_['Sunrise']    0.012776\n",
       "6476           studios_[]    0.011058\n",
       "5360            rating_rx    0.008816\n",
       "9931         producers_[]    0.008563\n",
       "7                type_ova    0.007894"
      ]
     },
     "execution_count": 19,
     "metadata": {},
     "output_type": "execute_result"
    }
   ],
   "source": [
    "# List the features sorted in descending order by feature importance\n",
    "imp_features = brf_model.feature_importances_\n",
    "\n",
    "cols = X_encoded.columns\n",
    "\n",
    "features_df = pd.DataFrame({\"feature\": cols, \"importance\": imp_features}).sort_values(\"importance\", ascending=False)\n",
    "features_df.head(10)\n",
    "\n",
    "# add in others"
   ]
  },
  {
   "cell_type": "code",
   "execution_count": 20,
   "metadata": {},
   "outputs": [],
   "source": []
  },
  {
   "cell_type": "code",
   "execution_count": 21,
   "metadata": {},
   "outputs": [],
   "source": []
  },
  {
   "cell_type": "code",
   "execution_count": 22,
   "metadata": {},
   "outputs": [],
   "source": []
  },
  {
   "cell_type": "code",
   "execution_count": 23,
   "metadata": {},
   "outputs": [],
   "source": []
  },
  {
   "cell_type": "code",
   "execution_count": null,
   "metadata": {},
   "outputs": [],
   "source": []
  },
  {
   "cell_type": "code",
   "execution_count": null,
   "metadata": {},
   "outputs": [],
   "source": []
  }
 ],
 "metadata": {
  "kernelspec": {
   "display_name": "mlenv",
   "language": "python",
   "name": "mlenv"
  },
  "language_info": {
   "codemirror_mode": {
    "name": "ipython",
    "version": 3
   },
   "file_extension": ".py",
   "mimetype": "text/x-python",
   "name": "python",
   "nbconvert_exporter": "python",
   "pygments_lexer": "ipython3",
   "version": "3.7.13"
  }
 },
 "nbformat": 4,
 "nbformat_minor": 4
}
