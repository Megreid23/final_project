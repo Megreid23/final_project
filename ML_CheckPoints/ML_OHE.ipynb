{
 "cells": [
  {
   "cell_type": "code",
   "execution_count": 1,
   "id": "6f024200-9130-40d4-bfdd-3f5d355b8392",
   "metadata": {
    "collapsed": true,
    "jupyter": {
     "outputs_hidden": true
    },
    "tags": []
   },
   "outputs": [
    {
     "name": "stdout",
     "output_type": "stream",
     "text": [
      "Requirement already satisfied: imbalanced-learn==0.9.0 in /opt/anaconda3/envs/mlenv/lib/python3.7/site-packages (0.9.0)\n",
      "Requirement already satisfied: threadpoolctl>=2.0.0 in /opt/anaconda3/envs/mlenv/lib/python3.7/site-packages (from imbalanced-learn==0.9.0) (2.2.0)\n",
      "Requirement already satisfied: joblib>=0.11 in /opt/anaconda3/envs/mlenv/lib/python3.7/site-packages (from imbalanced-learn==0.9.0) (1.1.0)\n",
      "Requirement already satisfied: scikit-learn>=1.0.1 in /opt/anaconda3/envs/mlenv/lib/python3.7/site-packages (from imbalanced-learn==0.9.0) (1.0.1)\n",
      "Requirement already satisfied: numpy>=1.14.6 in /opt/anaconda3/envs/mlenv/lib/python3.7/site-packages (from imbalanced-learn==0.9.0) (1.21.5)\n",
      "Requirement already satisfied: scipy>=1.1.0 in /opt/anaconda3/envs/mlenv/lib/python3.7/site-packages (from imbalanced-learn==0.9.0) (1.7.3)\n",
      "Note: you may need to restart the kernel to use updated packages.\n"
     ]
    }
   ],
   "source": [
    "pip install imbalanced-learn==0.9.0"
   ]
  },
  {
   "cell_type": "code",
   "execution_count": 2,
   "id": "d1be100b-961c-4ada-b2b4-9c3b2b485dc3",
   "metadata": {
    "collapsed": true,
    "jupyter": {
     "outputs_hidden": true
    },
    "tags": []
   },
   "outputs": [
    {
     "name": "stdout",
     "output_type": "stream",
     "text": [
      "Requirement already satisfied: scikit-learn==1.0.1 in /opt/anaconda3/envs/mlenv/lib/python3.7/site-packages (1.0.1)\n",
      "Requirement already satisfied: scipy>=1.1.0 in /opt/anaconda3/envs/mlenv/lib/python3.7/site-packages (from scikit-learn==1.0.1) (1.7.3)\n",
      "Requirement already satisfied: numpy>=1.14.6 in /opt/anaconda3/envs/mlenv/lib/python3.7/site-packages (from scikit-learn==1.0.1) (1.21.5)\n",
      "Requirement already satisfied: threadpoolctl>=2.0.0 in /opt/anaconda3/envs/mlenv/lib/python3.7/site-packages (from scikit-learn==1.0.1) (2.2.0)\n",
      "Requirement already satisfied: joblib>=0.11 in /opt/anaconda3/envs/mlenv/lib/python3.7/site-packages (from scikit-learn==1.0.1) (1.1.0)\n",
      "Note: you may need to restart the kernel to use updated packages.\n"
     ]
    }
   ],
   "source": [
    "pip install scikit-learn==1.0.1"
   ]
  },
  {
   "cell_type": "code",
   "execution_count": 3,
   "id": "723759dc-b56d-4d73-83cf-5d6a1c50be18",
   "metadata": {
    "collapsed": true,
    "jupyter": {
     "outputs_hidden": true
    },
    "tags": []
   },
   "outputs": [
    {
     "name": "stdout",
     "output_type": "stream",
     "text": [
      "Requirement already satisfied: sqlalchemy in /opt/anaconda3/envs/mlenv/lib/python3.7/site-packages (1.4.32)\n",
      "Requirement already satisfied: importlib-metadata in /opt/anaconda3/envs/mlenv/lib/python3.7/site-packages (from sqlalchemy) (4.11.3)\n",
      "Requirement already satisfied: greenlet!=0.4.17 in /opt/anaconda3/envs/mlenv/lib/python3.7/site-packages (from sqlalchemy) (1.1.1)\n",
      "Requirement already satisfied: zipp>=0.5 in /opt/anaconda3/envs/mlenv/lib/python3.7/site-packages (from importlib-metadata->sqlalchemy) (3.7.0)\n",
      "Requirement already satisfied: typing-extensions>=3.6.4 in /opt/anaconda3/envs/mlenv/lib/python3.7/site-packages (from importlib-metadata->sqlalchemy) (4.1.1)\n",
      "Note: you may need to restart the kernel to use updated packages.\n"
     ]
    }
   ],
   "source": [
    "pip install sqlalchemy"
   ]
  },
  {
   "cell_type": "code",
   "execution_count": 4,
   "id": "c9c25de3-38b4-4926-a913-e28078402bbc",
   "metadata": {
    "tags": []
   },
   "outputs": [
    {
     "name": "stdout",
     "output_type": "stream",
     "text": [
      "Requirement already satisfied: psycopg2 in /opt/anaconda3/envs/mlenv/lib/python3.7/site-packages (2.7.7)\n",
      "Note: you may need to restart the kernel to use updated packages.\n"
     ]
    }
   ],
   "source": [
    "pip install psycopg2"
   ]
  },
  {
   "cell_type": "code",
   "execution_count": 5,
   "id": "42d35dde-bd7d-4236-b9c3-0adac79ef74d",
   "metadata": {},
   "outputs": [],
   "source": [
    "import numpy as np\n",
    "import pandas as pd\n",
    "from sklearn.metrics import balanced_accuracy_score\n",
    "from sklearn.metrics import confusion_matrix\n",
    "from imblearn.metrics import classification_report_imbalanced\n",
    "from sklearn.model_selection import train_test_split\n",
    "from sklearn.preprocessing import StandardScaler, OneHotEncoder\n",
    "from imblearn.ensemble import BalancedRandomForestClassifier"
   ]
  },
  {
   "cell_type": "code",
   "execution_count": 6,
   "id": "2d8e7139-e58e-4357-9e33-d3b32f6c8d85",
   "metadata": {},
   "outputs": [],
   "source": [
    "# Import SQLAlchemy `automap` and other dependencies here\n",
    "import sqlalchemy\n",
    "from sqlalchemy.ext.automap import automap_base\n",
    "from sqlalchemy.orm import Session\n",
    "from sqlalchemy import create_engine, inspect, func"
   ]
  },
  {
   "cell_type": "code",
   "execution_count": 7,
   "id": "e2208408-2183-4795-b9f5-a451ce93e495",
   "metadata": {
    "tags": []
   },
   "outputs": [],
   "source": [
    "# Load the data\n",
    "# import clean anime csv (RTR)\n",
    "file_path = '../Data/anime_df.csv'\n",
    "clean_anime_df = pd.read_csv(file_path)\n",
    "\n",
    "# clean_anime_df.head()\n",
    "\n",
    "clean_anime_df = clean_anime_df.drop(columns=[\"title\"])\n"
   ]
  },
  {
   "cell_type": "code",
   "execution_count": 8,
   "id": "992256a1-436f-4af8-bcdc-af31c8f4318f",
   "metadata": {},
   "outputs": [
    {
     "data": {
      "text/plain": [
       "(9451, 16)"
      ]
     },
     "execution_count": 8,
     "metadata": {},
     "output_type": "execute_result"
    }
   ],
   "source": [
    "clean_anime_df.shape"
   ]
  },
  {
   "cell_type": "code",
   "execution_count": 9,
   "id": "5843341e-47fe-4e20-abf0-5136947c30b3",
   "metadata": {},
   "outputs": [
    {
     "data": {
      "text/html": [
       "<div>\n",
       "<style scoped>\n",
       "    .dataframe tbody tr th:only-of-type {\n",
       "        vertical-align: middle;\n",
       "    }\n",
       "\n",
       "    .dataframe tbody tr th {\n",
       "        vertical-align: top;\n",
       "    }\n",
       "\n",
       "    .dataframe thead th {\n",
       "        text-align: right;\n",
       "    }\n",
       "</style>\n",
       "<table border=\"1\" class=\"dataframe\">\n",
       "  <thead>\n",
       "    <tr style=\"text-align: right;\">\n",
       "      <th></th>\n",
       "      <th>type</th>\n",
       "      <th>status</th>\n",
       "      <th>source</th>\n",
       "      <th>rating</th>\n",
       "      <th>start_season</th>\n",
       "      <th>genres</th>\n",
       "      <th>demographics</th>\n",
       "      <th>studios</th>\n",
       "    </tr>\n",
       "  </thead>\n",
       "  <tbody>\n",
       "    <tr>\n",
       "      <th>0</th>\n",
       "      <td>tv</td>\n",
       "      <td>finished_airing</td>\n",
       "      <td>Non-Original</td>\n",
       "      <td>r</td>\n",
       "      <td>spring</td>\n",
       "      <td>Action</td>\n",
       "      <td>Shounen</td>\n",
       "      <td>Bones</td>\n",
       "    </tr>\n",
       "    <tr>\n",
       "      <th>1</th>\n",
       "      <td>tv</td>\n",
       "      <td>finished_airing</td>\n",
       "      <td>Non-Original</td>\n",
       "      <td>pg_13</td>\n",
       "      <td>fall</td>\n",
       "      <td>Action</td>\n",
       "      <td>Shounen</td>\n",
       "      <td>Madhouse</td>\n",
       "    </tr>\n",
       "    <tr>\n",
       "      <th>2</th>\n",
       "      <td>tv</td>\n",
       "      <td>finished_airing</td>\n",
       "      <td>Non-Original</td>\n",
       "      <td>r</td>\n",
       "      <td>spring</td>\n",
       "      <td>Action</td>\n",
       "      <td>Shounen</td>\n",
       "      <td>Wit Studio</td>\n",
       "    </tr>\n",
       "    <tr>\n",
       "      <th>3</th>\n",
       "      <td>tv</td>\n",
       "      <td>finished_airing</td>\n",
       "      <td>Non-Original</td>\n",
       "      <td>pg_13</td>\n",
       "      <td>spring</td>\n",
       "      <td>Drama</td>\n",
       "      <td>None</td>\n",
       "      <td>White Fox</td>\n",
       "    </tr>\n",
       "    <tr>\n",
       "      <th>4</th>\n",
       "      <td>movie</td>\n",
       "      <td>finished_airing</td>\n",
       "      <td>Non-Original</td>\n",
       "      <td>pg_13</td>\n",
       "      <td>summer</td>\n",
       "      <td>Drama</td>\n",
       "      <td>Shounen</td>\n",
       "      <td>Kyoto Animation</td>\n",
       "    </tr>\n",
       "  </tbody>\n",
       "</table>\n",
       "</div>"
      ],
      "text/plain": [
       "    type           status        source rating start_season  genres  \\\n",
       "0     tv  finished_airing  Non-Original      r       spring  Action   \n",
       "1     tv  finished_airing  Non-Original  pg_13         fall  Action   \n",
       "2     tv  finished_airing  Non-Original      r       spring  Action   \n",
       "3     tv  finished_airing  Non-Original  pg_13       spring   Drama   \n",
       "4  movie  finished_airing  Non-Original  pg_13       summer   Drama   \n",
       "\n",
       "  demographics          studios  \n",
       "0      Shounen            Bones  \n",
       "1      Shounen         Madhouse  \n",
       "2      Shounen       Wit Studio  \n",
       "3         None        White Fox  \n",
       "4      Shounen  Kyoto Animation  "
      ]
     },
     "execution_count": 9,
     "metadata": {},
     "output_type": "execute_result"
    }
   ],
   "source": [
    "# Create our features (in testing)\n",
    "\n",
    "feature_df = clean_anime_df.drop(columns=[\"score\", \"anime_id\", \"sfw\", \"scored_by\", \"episodes\", \"members\", \"favorites\", \"start_year\"])\n",
    "\n",
    "feature_df.head()\n",
    "\n"
   ]
  },
  {
   "cell_type": "code",
   "execution_count": 10,
   "id": "6a7c2f76-8177-4949-b804-5acf25093ea7",
   "metadata": {},
   "outputs": [
    {
     "data": {
      "text/plain": [
       "type            object\n",
       "status          object\n",
       "source          object\n",
       "rating          object\n",
       "start_season    object\n",
       "genres          object\n",
       "demographics    object\n",
       "studios         object\n",
       "dtype: object"
      ]
     },
     "execution_count": 10,
     "metadata": {},
     "output_type": "execute_result"
    }
   ],
   "source": [
    "feature_df.dtypes"
   ]
  },
  {
   "cell_type": "code",
   "execution_count": 11,
   "id": "fa3ad4d5-cac5-4a01-91a7-af665c073cce",
   "metadata": {},
   "outputs": [
    {
     "data": {
      "text/plain": [
       "['type',\n",
       " 'status',\n",
       " 'source',\n",
       " 'rating',\n",
       " 'start_season',\n",
       " 'genres',\n",
       " 'demographics',\n",
       " 'studios']"
      ]
     },
     "execution_count": 11,
     "metadata": {},
     "output_type": "execute_result"
    }
   ],
   "source": [
    "# Generate our categorical variable lists\n",
    "feature_df = feature_df.dtypes[feature_df.dtypes == \"object\"].index.tolist()\n",
    "\n",
    "feature_df"
   ]
  },
  {
   "cell_type": "code",
   "execution_count": 12,
   "id": "ce07ad66-4566-4c3e-955a-2a9b6dbba70d",
   "metadata": {},
   "outputs": [
    {
     "name": "stderr",
     "output_type": "stream",
     "text": [
      "/opt/anaconda3/envs/mlenv/lib/python3.7/site-packages/sklearn/utils/deprecation.py:87: FutureWarning: Function get_feature_names is deprecated; get_feature_names is deprecated in 1.0 and will be removed in 1.2. Please use get_feature_names_out instead.\n",
      "  warnings.warn(msg, category=FutureWarning)\n"
     ]
    },
    {
     "data": {
      "text/html": [
       "<div>\n",
       "<style scoped>\n",
       "    .dataframe tbody tr th:only-of-type {\n",
       "        vertical-align: middle;\n",
       "    }\n",
       "\n",
       "    .dataframe tbody tr th {\n",
       "        vertical-align: top;\n",
       "    }\n",
       "\n",
       "    .dataframe thead th {\n",
       "        text-align: right;\n",
       "    }\n",
       "</style>\n",
       "<table border=\"1\" class=\"dataframe\">\n",
       "  <thead>\n",
       "    <tr style=\"text-align: right;\">\n",
       "      <th></th>\n",
       "      <th>type_Non-Original</th>\n",
       "      <th>type_movie</th>\n",
       "      <th>type_ona</th>\n",
       "      <th>type_ova</th>\n",
       "      <th>type_special</th>\n",
       "      <th>type_tv</th>\n",
       "      <th>status_currently_airing</th>\n",
       "      <th>status_finished_airing</th>\n",
       "      <th>source_Non-Original</th>\n",
       "      <th>source_original</th>\n",
       "      <th>...</th>\n",
       "      <th>studios_feel.</th>\n",
       "      <th>studios_happyproject</th>\n",
       "      <th>studios_helo.inc</th>\n",
       "      <th>studios_iDRAGONS Creative Studio</th>\n",
       "      <th>studios_ixtl</th>\n",
       "      <th>studios_l-a-unch・BOX</th>\n",
       "      <th>studios_monofilmo</th>\n",
       "      <th>studios_production doA</th>\n",
       "      <th>studios_studio MOTHER</th>\n",
       "      <th>studios_ufotable</th>\n",
       "    </tr>\n",
       "  </thead>\n",
       "  <tbody>\n",
       "    <tr>\n",
       "      <th>0</th>\n",
       "      <td>0.0</td>\n",
       "      <td>0.0</td>\n",
       "      <td>0.0</td>\n",
       "      <td>0.0</td>\n",
       "      <td>0.0</td>\n",
       "      <td>1.0</td>\n",
       "      <td>0.0</td>\n",
       "      <td>1.0</td>\n",
       "      <td>1.0</td>\n",
       "      <td>0.0</td>\n",
       "      <td>...</td>\n",
       "      <td>0.0</td>\n",
       "      <td>0.0</td>\n",
       "      <td>0.0</td>\n",
       "      <td>0.0</td>\n",
       "      <td>0.0</td>\n",
       "      <td>0.0</td>\n",
       "      <td>0.0</td>\n",
       "      <td>0.0</td>\n",
       "      <td>0.0</td>\n",
       "      <td>0.0</td>\n",
       "    </tr>\n",
       "    <tr>\n",
       "      <th>1</th>\n",
       "      <td>0.0</td>\n",
       "      <td>0.0</td>\n",
       "      <td>0.0</td>\n",
       "      <td>0.0</td>\n",
       "      <td>0.0</td>\n",
       "      <td>1.0</td>\n",
       "      <td>0.0</td>\n",
       "      <td>1.0</td>\n",
       "      <td>1.0</td>\n",
       "      <td>0.0</td>\n",
       "      <td>...</td>\n",
       "      <td>0.0</td>\n",
       "      <td>0.0</td>\n",
       "      <td>0.0</td>\n",
       "      <td>0.0</td>\n",
       "      <td>0.0</td>\n",
       "      <td>0.0</td>\n",
       "      <td>0.0</td>\n",
       "      <td>0.0</td>\n",
       "      <td>0.0</td>\n",
       "      <td>0.0</td>\n",
       "    </tr>\n",
       "    <tr>\n",
       "      <th>2</th>\n",
       "      <td>0.0</td>\n",
       "      <td>0.0</td>\n",
       "      <td>0.0</td>\n",
       "      <td>0.0</td>\n",
       "      <td>0.0</td>\n",
       "      <td>1.0</td>\n",
       "      <td>0.0</td>\n",
       "      <td>1.0</td>\n",
       "      <td>1.0</td>\n",
       "      <td>0.0</td>\n",
       "      <td>...</td>\n",
       "      <td>0.0</td>\n",
       "      <td>0.0</td>\n",
       "      <td>0.0</td>\n",
       "      <td>0.0</td>\n",
       "      <td>0.0</td>\n",
       "      <td>0.0</td>\n",
       "      <td>0.0</td>\n",
       "      <td>0.0</td>\n",
       "      <td>0.0</td>\n",
       "      <td>0.0</td>\n",
       "    </tr>\n",
       "    <tr>\n",
       "      <th>3</th>\n",
       "      <td>0.0</td>\n",
       "      <td>0.0</td>\n",
       "      <td>0.0</td>\n",
       "      <td>0.0</td>\n",
       "      <td>0.0</td>\n",
       "      <td>1.0</td>\n",
       "      <td>0.0</td>\n",
       "      <td>1.0</td>\n",
       "      <td>1.0</td>\n",
       "      <td>0.0</td>\n",
       "      <td>...</td>\n",
       "      <td>0.0</td>\n",
       "      <td>0.0</td>\n",
       "      <td>0.0</td>\n",
       "      <td>0.0</td>\n",
       "      <td>0.0</td>\n",
       "      <td>0.0</td>\n",
       "      <td>0.0</td>\n",
       "      <td>0.0</td>\n",
       "      <td>0.0</td>\n",
       "      <td>0.0</td>\n",
       "    </tr>\n",
       "    <tr>\n",
       "      <th>4</th>\n",
       "      <td>0.0</td>\n",
       "      <td>1.0</td>\n",
       "      <td>0.0</td>\n",
       "      <td>0.0</td>\n",
       "      <td>0.0</td>\n",
       "      <td>0.0</td>\n",
       "      <td>0.0</td>\n",
       "      <td>1.0</td>\n",
       "      <td>1.0</td>\n",
       "      <td>0.0</td>\n",
       "      <td>...</td>\n",
       "      <td>0.0</td>\n",
       "      <td>0.0</td>\n",
       "      <td>0.0</td>\n",
       "      <td>0.0</td>\n",
       "      <td>0.0</td>\n",
       "      <td>0.0</td>\n",
       "      <td>0.0</td>\n",
       "      <td>0.0</td>\n",
       "      <td>0.0</td>\n",
       "      <td>0.0</td>\n",
       "    </tr>\n",
       "  </tbody>\n",
       "</table>\n",
       "<p>5 rows × 730 columns</p>\n",
       "</div>"
      ],
      "text/plain": [
       "   type_Non-Original  type_movie  type_ona  type_ova  type_special  type_tv  \\\n",
       "0                0.0         0.0       0.0       0.0           0.0      1.0   \n",
       "1                0.0         0.0       0.0       0.0           0.0      1.0   \n",
       "2                0.0         0.0       0.0       0.0           0.0      1.0   \n",
       "3                0.0         0.0       0.0       0.0           0.0      1.0   \n",
       "4                0.0         1.0       0.0       0.0           0.0      0.0   \n",
       "\n",
       "   status_currently_airing  status_finished_airing  source_Non-Original  \\\n",
       "0                      0.0                     1.0                  1.0   \n",
       "1                      0.0                     1.0                  1.0   \n",
       "2                      0.0                     1.0                  1.0   \n",
       "3                      0.0                     1.0                  1.0   \n",
       "4                      0.0                     1.0                  1.0   \n",
       "\n",
       "   source_original  ...  studios_feel.  studios_happyproject  \\\n",
       "0              0.0  ...            0.0                   0.0   \n",
       "1              0.0  ...            0.0                   0.0   \n",
       "2              0.0  ...            0.0                   0.0   \n",
       "3              0.0  ...            0.0                   0.0   \n",
       "4              0.0  ...            0.0                   0.0   \n",
       "\n",
       "   studios_helo.inc  studios_iDRAGONS Creative Studio  studios_ixtl  \\\n",
       "0               0.0                               0.0           0.0   \n",
       "1               0.0                               0.0           0.0   \n",
       "2               0.0                               0.0           0.0   \n",
       "3               0.0                               0.0           0.0   \n",
       "4               0.0                               0.0           0.0   \n",
       "\n",
       "   studios_l-a-unch・BOX  studios_monofilmo  studios_production doA  \\\n",
       "0                   0.0                0.0                     0.0   \n",
       "1                   0.0                0.0                     0.0   \n",
       "2                   0.0                0.0                     0.0   \n",
       "3                   0.0                0.0                     0.0   \n",
       "4                   0.0                0.0                     0.0   \n",
       "\n",
       "   studios_studio MOTHER  studios_ufotable  \n",
       "0                    0.0               0.0  \n",
       "1                    0.0               0.0  \n",
       "2                    0.0               0.0  \n",
       "3                    0.0               0.0  \n",
       "4                    0.0               0.0  \n",
       "\n",
       "[5 rows x 730 columns]"
      ]
     },
     "execution_count": 12,
     "metadata": {},
     "output_type": "execute_result"
    }
   ],
   "source": [
    "# Create a OneHotEncoder instance\n",
    "enc = OneHotEncoder(sparse=False)\n",
    "\n",
    "# Fit and transform the OneHotEncoder using the categorical variable list\n",
    "encode_df = pd.DataFrame(enc.fit_transform(clean_anime_df[feature_df]))\n",
    "\n",
    "# Add the encoded variable names to the dataframe\n",
    "encode_df.columns = enc.get_feature_names(feature_df)\n",
    "encode_df.head()"
   ]
  },
  {
   "cell_type": "code",
   "execution_count": 13,
   "id": "46ce1163-3b5a-4a33-86ca-581a55db494e",
   "metadata": {},
   "outputs": [
    {
     "name": "stderr",
     "output_type": "stream",
     "text": [
      "/opt/anaconda3/envs/mlenv/lib/python3.7/site-packages/ipykernel_launcher.py:2: FutureWarning: In a future version of pandas all arguments of DataFrame.drop except for the argument 'labels' will be keyword-only\n",
      "  \n"
     ]
    },
    {
     "data": {
      "text/html": [
       "<div>\n",
       "<style scoped>\n",
       "    .dataframe tbody tr th:only-of-type {\n",
       "        vertical-align: middle;\n",
       "    }\n",
       "\n",
       "    .dataframe tbody tr th {\n",
       "        vertical-align: top;\n",
       "    }\n",
       "\n",
       "    .dataframe thead th {\n",
       "        text-align: right;\n",
       "    }\n",
       "</style>\n",
       "<table border=\"1\" class=\"dataframe\">\n",
       "  <thead>\n",
       "    <tr style=\"text-align: right;\">\n",
       "      <th></th>\n",
       "      <th>anime_id</th>\n",
       "      <th>score</th>\n",
       "      <th>scored_by</th>\n",
       "      <th>episodes</th>\n",
       "      <th>members</th>\n",
       "      <th>favorites</th>\n",
       "      <th>sfw</th>\n",
       "      <th>start_year</th>\n",
       "      <th>type_Non-Original</th>\n",
       "      <th>type_movie</th>\n",
       "      <th>...</th>\n",
       "      <th>studios_feel.</th>\n",
       "      <th>studios_happyproject</th>\n",
       "      <th>studios_helo.inc</th>\n",
       "      <th>studios_iDRAGONS Creative Studio</th>\n",
       "      <th>studios_ixtl</th>\n",
       "      <th>studios_l-a-unch・BOX</th>\n",
       "      <th>studios_monofilmo</th>\n",
       "      <th>studios_production doA</th>\n",
       "      <th>studios_studio MOTHER</th>\n",
       "      <th>studios_ufotable</th>\n",
       "    </tr>\n",
       "  </thead>\n",
       "  <tbody>\n",
       "    <tr>\n",
       "      <th>0</th>\n",
       "      <td>5114</td>\n",
       "      <td>High</td>\n",
       "      <td>1871705</td>\n",
       "      <td>64</td>\n",
       "      <td>2932347</td>\n",
       "      <td>204645</td>\n",
       "      <td>True</td>\n",
       "      <td>2009</td>\n",
       "      <td>0.0</td>\n",
       "      <td>0.0</td>\n",
       "      <td>...</td>\n",
       "      <td>0.0</td>\n",
       "      <td>0.0</td>\n",
       "      <td>0.0</td>\n",
       "      <td>0.0</td>\n",
       "      <td>0.0</td>\n",
       "      <td>0.0</td>\n",
       "      <td>0.0</td>\n",
       "      <td>0.0</td>\n",
       "      <td>0.0</td>\n",
       "      <td>0.0</td>\n",
       "    </tr>\n",
       "    <tr>\n",
       "      <th>1</th>\n",
       "      <td>11061</td>\n",
       "      <td>High</td>\n",
       "      <td>1509622</td>\n",
       "      <td>148</td>\n",
       "      <td>2418883</td>\n",
       "      <td>185178</td>\n",
       "      <td>True</td>\n",
       "      <td>2011</td>\n",
       "      <td>0.0</td>\n",
       "      <td>0.0</td>\n",
       "      <td>...</td>\n",
       "      <td>0.0</td>\n",
       "      <td>0.0</td>\n",
       "      <td>0.0</td>\n",
       "      <td>0.0</td>\n",
       "      <td>0.0</td>\n",
       "      <td>0.0</td>\n",
       "      <td>0.0</td>\n",
       "      <td>0.0</td>\n",
       "      <td>0.0</td>\n",
       "      <td>0.0</td>\n",
       "    </tr>\n",
       "    <tr>\n",
       "      <th>2</th>\n",
       "      <td>38524</td>\n",
       "      <td>High</td>\n",
       "      <td>1329500</td>\n",
       "      <td>10</td>\n",
       "      <td>1881734</td>\n",
       "      <td>51931</td>\n",
       "      <td>True</td>\n",
       "      <td>2019</td>\n",
       "      <td>0.0</td>\n",
       "      <td>0.0</td>\n",
       "      <td>...</td>\n",
       "      <td>0.0</td>\n",
       "      <td>0.0</td>\n",
       "      <td>0.0</td>\n",
       "      <td>0.0</td>\n",
       "      <td>0.0</td>\n",
       "      <td>0.0</td>\n",
       "      <td>0.0</td>\n",
       "      <td>0.0</td>\n",
       "      <td>0.0</td>\n",
       "      <td>0.0</td>\n",
       "    </tr>\n",
       "    <tr>\n",
       "      <th>3</th>\n",
       "      <td>9253</td>\n",
       "      <td>High</td>\n",
       "      <td>1252286</td>\n",
       "      <td>24</td>\n",
       "      <td>2269121</td>\n",
       "      <td>173088</td>\n",
       "      <td>True</td>\n",
       "      <td>2011</td>\n",
       "      <td>0.0</td>\n",
       "      <td>0.0</td>\n",
       "      <td>...</td>\n",
       "      <td>0.0</td>\n",
       "      <td>0.0</td>\n",
       "      <td>0.0</td>\n",
       "      <td>0.0</td>\n",
       "      <td>0.0</td>\n",
       "      <td>0.0</td>\n",
       "      <td>0.0</td>\n",
       "      <td>0.0</td>\n",
       "      <td>0.0</td>\n",
       "      <td>0.0</td>\n",
       "    </tr>\n",
       "    <tr>\n",
       "      <th>4</th>\n",
       "      <td>28851</td>\n",
       "      <td>High</td>\n",
       "      <td>1398608</td>\n",
       "      <td>1</td>\n",
       "      <td>2001335</td>\n",
       "      <td>77431</td>\n",
       "      <td>True</td>\n",
       "      <td>2016</td>\n",
       "      <td>0.0</td>\n",
       "      <td>1.0</td>\n",
       "      <td>...</td>\n",
       "      <td>0.0</td>\n",
       "      <td>0.0</td>\n",
       "      <td>0.0</td>\n",
       "      <td>0.0</td>\n",
       "      <td>0.0</td>\n",
       "      <td>0.0</td>\n",
       "      <td>0.0</td>\n",
       "      <td>0.0</td>\n",
       "      <td>0.0</td>\n",
       "      <td>0.0</td>\n",
       "    </tr>\n",
       "  </tbody>\n",
       "</table>\n",
       "<p>5 rows × 738 columns</p>\n",
       "</div>"
      ],
      "text/plain": [
       "   anime_id score  scored_by  episodes  members  favorites   sfw  start_year  \\\n",
       "0      5114  High    1871705        64  2932347     204645  True        2009   \n",
       "1     11061  High    1509622       148  2418883     185178  True        2011   \n",
       "2     38524  High    1329500        10  1881734      51931  True        2019   \n",
       "3      9253  High    1252286        24  2269121     173088  True        2011   \n",
       "4     28851  High    1398608         1  2001335      77431  True        2016   \n",
       "\n",
       "   type_Non-Original  type_movie  ...  studios_feel.  studios_happyproject  \\\n",
       "0                0.0         0.0  ...            0.0                   0.0   \n",
       "1                0.0         0.0  ...            0.0                   0.0   \n",
       "2                0.0         0.0  ...            0.0                   0.0   \n",
       "3                0.0         0.0  ...            0.0                   0.0   \n",
       "4                0.0         1.0  ...            0.0                   0.0   \n",
       "\n",
       "   studios_helo.inc  studios_iDRAGONS Creative Studio  studios_ixtl  \\\n",
       "0               0.0                               0.0           0.0   \n",
       "1               0.0                               0.0           0.0   \n",
       "2               0.0                               0.0           0.0   \n",
       "3               0.0                               0.0           0.0   \n",
       "4               0.0                               0.0           0.0   \n",
       "\n",
       "   studios_l-a-unch・BOX  studios_monofilmo  studios_production doA  \\\n",
       "0                   0.0                0.0                     0.0   \n",
       "1                   0.0                0.0                     0.0   \n",
       "2                   0.0                0.0                     0.0   \n",
       "3                   0.0                0.0                     0.0   \n",
       "4                   0.0                0.0                     0.0   \n",
       "\n",
       "   studios_studio MOTHER  studios_ufotable  \n",
       "0                    0.0               0.0  \n",
       "1                    0.0               0.0  \n",
       "2                    0.0               0.0  \n",
       "3                    0.0               0.0  \n",
       "4                    0.0               0.0  \n",
       "\n",
       "[5 rows x 738 columns]"
      ]
     },
     "execution_count": 13,
     "metadata": {},
     "output_type": "execute_result"
    }
   ],
   "source": [
    "# Merge one-hot encoded features and drop the originals\n",
    "encoded_app_df = clean_anime_df.merge(encode_df, left_index=True, right_index=True).drop(feature_df, 1)\n",
    "\n",
    "encoded_app_df.head()"
   ]
  },
  {
   "cell_type": "code",
   "execution_count": 14,
   "id": "9f76a2ab-54dd-4d98-b82f-4369d84ec550",
   "metadata": {},
   "outputs": [
    {
     "name": "stderr",
     "output_type": "stream",
     "text": [
      "/opt/anaconda3/envs/mlenv/lib/python3.7/site-packages/ipykernel_launcher.py:3: FutureWarning: In a future version of pandas all arguments of DataFrame.drop except for the argument 'labels' will be keyword-only\n",
      "  This is separate from the ipykernel package so we can avoid doing imports until\n"
     ]
    }
   ],
   "source": [
    "\n",
    "# Split our preprocessed data into our features and target arrays\n",
    "y = encoded_app_df[\"score\"].values\n",
    "X = encoded_app_df.drop([\"score\"], 1).values\n",
    "\n",
    "# Split the preprocessed data into a training and testing dataset\n",
    "X_train, X_test, y_train, y_test = train_test_split(X, y, random_state=1, stratify=y)"
   ]
  },
  {
   "cell_type": "code",
   "execution_count": 15,
   "id": "de1ffd1e-09b7-4c60-b8f5-e78b7bb2cddf",
   "metadata": {},
   "outputs": [],
   "source": [
    "# Create a StandardScaler instances\n",
    "scaler = StandardScaler()\n",
    "\n",
    "# Fit the StandardScaler\n",
    "X_scaler = scaler.fit(X_train)\n",
    "\n",
    "# Scale the data\n",
    "X_train_scaled = X_scaler.transform(X_train)\n",
    "X_test_scaled = X_scaler.transform(X_test)"
   ]
  },
  {
   "cell_type": "code",
   "execution_count": 16,
   "id": "493593c1-0210-4778-891c-6d520c9c3b55",
   "metadata": {},
   "outputs": [],
   "source": [
    "# Resample the training data with the BalancedRandomForestClassifier\n",
    "# model / fit / predict\n",
    "\n",
    "# model\n",
    "brf_model = BalancedRandomForestClassifier(n_estimators= 1000,\n",
    "                                           random_state=1)\n",
    "# fit model\n",
    "brf_model = brf_model.fit(X_train, y_train)\n",
    "\n",
    "predictions = brf_model.predict(X_test)\n"
   ]
  },
  {
   "cell_type": "code",
   "execution_count": 17,
   "id": "812b8727-d47a-4359-9396-32dc470faca0",
   "metadata": {},
   "outputs": [
    {
     "data": {
      "text/plain": [
       "0.8364513246425568"
      ]
     },
     "execution_count": 17,
     "metadata": {},
     "output_type": "execute_result"
    }
   ],
   "source": [
    "# Calculated the balanced accuracy score\n",
    "balanced_accuracy_score(y_test, predictions)"
   ]
  },
  {
   "cell_type": "code",
   "execution_count": 18,
   "id": "d6c3b7bf-5415-42a0-bab7-520fa62a66cf",
   "metadata": {},
   "outputs": [
    {
     "name": "stdout",
     "output_type": "stream",
     "text": [
      "                   pre       rec       spe        f1       geo       iba       sup\n",
      "\n",
      "    Average       0.90      0.81      0.86      0.85      0.84      0.70      1435\n",
      "       High       0.75      0.86      0.81      0.80      0.84      0.70       928\n",
      "\n",
      "avg / total       0.84      0.83      0.84      0.83      0.84      0.70      2363\n",
      "\n"
     ]
    }
   ],
   "source": [
    "# Print the imbalanced classification report\n",
    "print(classification_report_imbalanced(y_test, predictions))"
   ]
  },
  {
   "cell_type": "code",
   "execution_count": null,
   "id": "618b4023-ee53-47bd-933d-eb657000a13d",
   "metadata": {},
   "outputs": [],
   "source": []
  },
  {
   "cell_type": "code",
   "execution_count": null,
   "id": "c1be6fcc-ccea-44fd-8a5b-c48b1f10cc9a",
   "metadata": {},
   "outputs": [],
   "source": []
  },
  {
   "cell_type": "code",
   "execution_count": null,
   "id": "56475462-bbf9-4db5-a40e-21cbb8407e77",
   "metadata": {},
   "outputs": [],
   "source": []
  }
 ],
 "metadata": {
  "kernelspec": {
   "display_name": "mlenv",
   "language": "python",
   "name": "mlenv"
  },
  "language_info": {
   "codemirror_mode": {
    "name": "ipython",
    "version": 3
   },
   "file_extension": ".py",
   "mimetype": "text/x-python",
   "name": "python",
   "nbconvert_exporter": "python",
   "pygments_lexer": "ipython3",
   "version": "3.7.13"
  }
 },
 "nbformat": 4,
 "nbformat_minor": 5
}
