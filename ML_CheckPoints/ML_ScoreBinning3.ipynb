{
 "cells": [
  {
   "cell_type": "code",
   "execution_count": 1,
   "id": "42d35dde-bd7d-4236-b9c3-0adac79ef74d",
   "metadata": {},
   "outputs": [],
   "source": [
    "import numpy as np\n",
    "import pandas as pd\n",
    "from sklearn.metrics import balanced_accuracy_score\n",
    "from sklearn.metrics import confusion_matrix\n",
    "from imblearn.metrics import classification_report_imbalanced\n",
    "from sklearn.model_selection import train_test_split\n",
    "from sklearn.preprocessing import StandardScaler\n",
    "from imblearn.ensemble import BalancedRandomForestClassifier"
   ]
  },
  {
   "cell_type": "code",
   "execution_count": 2,
   "id": "e2208408-2183-4795-b9f5-a451ce93e495",
   "metadata": {
    "tags": []
   },
   "outputs": [
    {
     "data": {
      "text/html": [
       "<div>\n",
       "<style scoped>\n",
       "    .dataframe tbody tr th:only-of-type {\n",
       "        vertical-align: middle;\n",
       "    }\n",
       "\n",
       "    .dataframe tbody tr th {\n",
       "        vertical-align: top;\n",
       "    }\n",
       "\n",
       "    .dataframe thead th {\n",
       "        text-align: right;\n",
       "    }\n",
       "</style>\n",
       "<table border=\"1\" class=\"dataframe\">\n",
       "  <thead>\n",
       "    <tr style=\"text-align: right;\">\n",
       "      <th></th>\n",
       "      <th>anime_id</th>\n",
       "      <th>title</th>\n",
       "      <th>type</th>\n",
       "      <th>score</th>\n",
       "      <th>scored_by</th>\n",
       "      <th>status</th>\n",
       "      <th>episodes</th>\n",
       "      <th>source</th>\n",
       "      <th>members</th>\n",
       "      <th>favorites</th>\n",
       "      <th>rating</th>\n",
       "      <th>sfw</th>\n",
       "      <th>start_year</th>\n",
       "      <th>start_season</th>\n",
       "      <th>genres</th>\n",
       "      <th>demographics</th>\n",
       "      <th>studios</th>\n",
       "    </tr>\n",
       "  </thead>\n",
       "  <tbody>\n",
       "    <tr>\n",
       "      <th>0</th>\n",
       "      <td>5114</td>\n",
       "      <td>Fullmetal Alchemist: Brotherhood</td>\n",
       "      <td>tv</td>\n",
       "      <td>High</td>\n",
       "      <td>1871705</td>\n",
       "      <td>finished_airing</td>\n",
       "      <td>64</td>\n",
       "      <td>Non-Original</td>\n",
       "      <td>2932347</td>\n",
       "      <td>204645</td>\n",
       "      <td>r</td>\n",
       "      <td>True</td>\n",
       "      <td>2009</td>\n",
       "      <td>spring</td>\n",
       "      <td>Action</td>\n",
       "      <td>Shounen</td>\n",
       "      <td>Bones</td>\n",
       "    </tr>\n",
       "    <tr>\n",
       "      <th>1</th>\n",
       "      <td>11061</td>\n",
       "      <td>Hunter x Hunter (2011)</td>\n",
       "      <td>tv</td>\n",
       "      <td>High</td>\n",
       "      <td>1509622</td>\n",
       "      <td>finished_airing</td>\n",
       "      <td>148</td>\n",
       "      <td>Non-Original</td>\n",
       "      <td>2418883</td>\n",
       "      <td>185178</td>\n",
       "      <td>pg_13</td>\n",
       "      <td>True</td>\n",
       "      <td>2011</td>\n",
       "      <td>fall</td>\n",
       "      <td>Action</td>\n",
       "      <td>Shounen</td>\n",
       "      <td>Madhouse</td>\n",
       "    </tr>\n",
       "    <tr>\n",
       "      <th>2</th>\n",
       "      <td>38524</td>\n",
       "      <td>Shingeki no Kyojin Season 3 Part 2</td>\n",
       "      <td>tv</td>\n",
       "      <td>High</td>\n",
       "      <td>1329500</td>\n",
       "      <td>finished_airing</td>\n",
       "      <td>10</td>\n",
       "      <td>Non-Original</td>\n",
       "      <td>1881734</td>\n",
       "      <td>51931</td>\n",
       "      <td>r</td>\n",
       "      <td>True</td>\n",
       "      <td>2019</td>\n",
       "      <td>spring</td>\n",
       "      <td>Action</td>\n",
       "      <td>Shounen</td>\n",
       "      <td>Wit Studio</td>\n",
       "    </tr>\n",
       "    <tr>\n",
       "      <th>3</th>\n",
       "      <td>9253</td>\n",
       "      <td>Steins;Gate</td>\n",
       "      <td>tv</td>\n",
       "      <td>High</td>\n",
       "      <td>1252286</td>\n",
       "      <td>finished_airing</td>\n",
       "      <td>24</td>\n",
       "      <td>Non-Original</td>\n",
       "      <td>2269121</td>\n",
       "      <td>173088</td>\n",
       "      <td>pg_13</td>\n",
       "      <td>True</td>\n",
       "      <td>2011</td>\n",
       "      <td>spring</td>\n",
       "      <td>Drama</td>\n",
       "      <td>None</td>\n",
       "      <td>White Fox</td>\n",
       "    </tr>\n",
       "    <tr>\n",
       "      <th>4</th>\n",
       "      <td>28851</td>\n",
       "      <td>Koe no Katachi</td>\n",
       "      <td>movie</td>\n",
       "      <td>High</td>\n",
       "      <td>1398608</td>\n",
       "      <td>finished_airing</td>\n",
       "      <td>1</td>\n",
       "      <td>Non-Original</td>\n",
       "      <td>2001335</td>\n",
       "      <td>77431</td>\n",
       "      <td>pg_13</td>\n",
       "      <td>True</td>\n",
       "      <td>2016</td>\n",
       "      <td>summer</td>\n",
       "      <td>Drama</td>\n",
       "      <td>Shounen</td>\n",
       "      <td>Kyoto Animation</td>\n",
       "    </tr>\n",
       "  </tbody>\n",
       "</table>\n",
       "</div>"
      ],
      "text/plain": [
       "   anime_id                               title   type score  scored_by  \\\n",
       "0      5114    Fullmetal Alchemist: Brotherhood     tv  High    1871705   \n",
       "1     11061              Hunter x Hunter (2011)     tv  High    1509622   \n",
       "2     38524  Shingeki no Kyojin Season 3 Part 2     tv  High    1329500   \n",
       "3      9253                         Steins;Gate     tv  High    1252286   \n",
       "4     28851                      Koe no Katachi  movie  High    1398608   \n",
       "\n",
       "            status  episodes        source  members  favorites rating   sfw  \\\n",
       "0  finished_airing        64  Non-Original  2932347     204645      r  True   \n",
       "1  finished_airing       148  Non-Original  2418883     185178  pg_13  True   \n",
       "2  finished_airing        10  Non-Original  1881734      51931      r  True   \n",
       "3  finished_airing        24  Non-Original  2269121     173088  pg_13  True   \n",
       "4  finished_airing         1  Non-Original  2001335      77431  pg_13  True   \n",
       "\n",
       "   start_year start_season  genres demographics          studios  \n",
       "0        2009       spring  Action      Shounen            Bones  \n",
       "1        2011         fall  Action      Shounen         Madhouse  \n",
       "2        2019       spring  Action      Shounen       Wit Studio  \n",
       "3        2011       spring   Drama         None        White Fox  \n",
       "4        2016       summer   Drama      Shounen  Kyoto Animation  "
      ]
     },
     "execution_count": 2,
     "metadata": {},
     "output_type": "execute_result"
    }
   ],
   "source": [
    "# Load the data\n",
    "# import clean anime csv (RTR)\n",
    "file_path = '../Data/anime_df.csv'\n",
    "clean_anime_df = pd.read_csv(file_path)\n",
    "\n",
    "clean_anime_df.head()\n"
   ]
  },
  {
   "cell_type": "code",
   "execution_count": 3,
   "id": "992256a1-436f-4af8-bcdc-af31c8f4318f",
   "metadata": {},
   "outputs": [
    {
     "data": {
      "text/plain": [
       "(9451, 17)"
      ]
     },
     "execution_count": 3,
     "metadata": {},
     "output_type": "execute_result"
    }
   ],
   "source": [
    "clean_anime_df.shape"
   ]
  },
  {
   "cell_type": "code",
   "execution_count": 4,
   "id": "5843341e-47fe-4e20-abf0-5136947c30b3",
   "metadata": {},
   "outputs": [],
   "source": [
    "# Create our features (in testing)\n",
    "\n",
    "feature_df = clean_anime_df.drop(columns = [\"anime_id\", \"title\", \"score\", \"rating\", \"sfw\", \"demographics\", \"genres\", \"status\", \"start_year\", \"start_season\"])\n",
    "\n",
    "# features are scored_by, episodes, source, members, favorites, type, studios.\n",
    "\n",
    "X = feature_df"
   ]
  },
  {
   "cell_type": "code",
   "execution_count": 5,
   "id": "9f76a2ab-54dd-4d98-b82f-4369d84ec550",
   "metadata": {},
   "outputs": [
    {
     "data": {
      "text/plain": [
       "Average    5738\n",
       "High       3713\n",
       "Name: score, dtype: int64"
      ]
     },
     "execution_count": 5,
     "metadata": {},
     "output_type": "execute_result"
    }
   ],
   "source": [
    "# Create our target\n",
    "y = clean_anime_df[\"score\"]\n",
    "y.value_counts()"
   ]
  },
  {
   "cell_type": "code",
   "execution_count": 6,
   "id": "dbeeb5b1-6536-4fc4-8aa9-539a8000b653",
   "metadata": {},
   "outputs": [
    {
     "data": {
      "text/plain": [
       "(9451, 696)"
      ]
     },
     "execution_count": 6,
     "metadata": {},
     "output_type": "execute_result"
    }
   ],
   "source": [
    "#Get Dummies\n",
    "X_encoded = pd.get_dummies(X)\n",
    "X_encoded.shape"
   ]
  },
  {
   "cell_type": "code",
   "execution_count": 7,
   "id": "5ba692f2-d8a5-4182-bb7b-57915d89e436",
   "metadata": {},
   "outputs": [],
   "source": [
    "data_scaler = StandardScaler()"
   ]
  },
  {
   "cell_type": "code",
   "execution_count": 8,
   "id": "06da1351-42cc-435a-8501-a88bcc923250",
   "metadata": {},
   "outputs": [],
   "source": [
    "X_encoded_scaled = data_scaler.fit_transform(X_encoded)\n",
    "# X_encoded_scaled[:1]"
   ]
  },
  {
   "cell_type": "code",
   "execution_count": 9,
   "id": "ce87bc6e-983f-40ff-bef4-d5003aa0533c",
   "metadata": {},
   "outputs": [],
   "source": [
    "# from sklearn.model_selection import train_test_split\n",
    "X_train, X_test, y_train, y_test = train_test_split(X_encoded_scaled, y, random_state = 1, stratify=y)\n",
    "\n",
    "# addidng in stratify to help with the imbalance between Non-Original and Original"
   ]
  },
  {
   "cell_type": "code",
   "execution_count": 10,
   "id": "a5e722c3-54f1-4a1e-a496-2051512bfe15",
   "metadata": {},
   "outputs": [
    {
     "data": {
      "text/plain": [
       "Average    4303\n",
       "High       2785\n",
       "Name: score, dtype: int64"
      ]
     },
     "execution_count": 10,
     "metadata": {},
     "output_type": "execute_result"
    }
   ],
   "source": [
    "y_train.value_counts()"
   ]
  },
  {
   "cell_type": "code",
   "execution_count": 11,
   "id": "493593c1-0210-4778-891c-6d520c9c3b55",
   "metadata": {},
   "outputs": [],
   "source": [
    "# Resample the training data with the BalancedRandomForestClassifier\n",
    "# model / fit / predict\n",
    "\n",
    "# model\n",
    "brfc_model = BalancedRandomForestClassifier(n_estimators= 1500,\n",
    "                                           random_state=1)\n",
    "# fit model\n",
    "brfc_model = brfc_model.fit(X_train, y_train)\n",
    "\n",
    "predictions = brfc_model.predict(X_test)\n"
   ]
  },
  {
   "cell_type": "code",
   "execution_count": 12,
   "id": "812b8727-d47a-4359-9396-32dc470faca0",
   "metadata": {},
   "outputs": [
    {
     "data": {
      "text/plain": [
       "0.8266918478913854"
      ]
     },
     "execution_count": 12,
     "metadata": {},
     "output_type": "execute_result"
    }
   ],
   "source": [
    "# Calculated the balanced accuracy score\n",
    "balanced_accuracy_score(y_test, predictions)"
   ]
  },
  {
   "cell_type": "code",
   "execution_count": 13,
   "id": "d6c3b7bf-5415-42a0-bab7-520fa62a66cf",
   "metadata": {},
   "outputs": [
    {
     "name": "stdout",
     "output_type": "stream",
     "text": [
      "                   pre       rec       spe        f1       geo       iba       sup\n",
      "\n",
      "    Average       0.89      0.80      0.85      0.85      0.83      0.68      1435\n",
      "       High       0.74      0.85      0.80      0.79      0.83      0.69       928\n",
      "\n",
      "avg / total       0.83      0.82      0.83      0.82      0.83      0.68      2363\n",
      "\n"
     ]
    }
   ],
   "source": [
    "# Print the imbalanced classification report\n",
    "print(classification_report_imbalanced(y_test, predictions))"
   ]
  },
  {
   "cell_type": "code",
   "execution_count": 20,
   "id": "aa33f5e3-89a8-4cdd-a26f-ac1248148e67",
   "metadata": {
    "tags": []
   },
   "outputs": [
    {
     "data": {
      "text/html": [
       "<div>\n",
       "<style scoped>\n",
       "    .dataframe tbody tr th:only-of-type {\n",
       "        vertical-align: middle;\n",
       "    }\n",
       "\n",
       "    .dataframe tbody tr th {\n",
       "        vertical-align: top;\n",
       "    }\n",
       "\n",
       "    .dataframe thead th {\n",
       "        text-align: right;\n",
       "    }\n",
       "</style>\n",
       "<table border=\"1\" class=\"dataframe\">\n",
       "  <thead>\n",
       "    <tr style=\"text-align: right;\">\n",
       "      <th></th>\n",
       "      <th>feature</th>\n",
       "      <th>importance</th>\n",
       "    </tr>\n",
       "  </thead>\n",
       "  <tbody>\n",
       "    <tr>\n",
       "      <th>3</th>\n",
       "      <td>favorites</td>\n",
       "      <td>0.225341</td>\n",
       "    </tr>\n",
       "    <tr>\n",
       "      <th>2</th>\n",
       "      <td>members</td>\n",
       "      <td>0.193152</td>\n",
       "    </tr>\n",
       "    <tr>\n",
       "      <th>0</th>\n",
       "      <td>scored_by</td>\n",
       "      <td>0.188275</td>\n",
       "    </tr>\n",
       "    <tr>\n",
       "      <th>1</th>\n",
       "      <td>episodes</td>\n",
       "      <td>0.065925</td>\n",
       "    </tr>\n",
       "    <tr>\n",
       "      <th>7</th>\n",
       "      <td>type_ova</td>\n",
       "      <td>0.015240</td>\n",
       "    </tr>\n",
       "  </tbody>\n",
       "</table>\n",
       "</div>"
      ],
      "text/plain": [
       "     feature  importance\n",
       "3  favorites    0.225341\n",
       "2    members    0.193152\n",
       "0  scored_by    0.188275\n",
       "1   episodes    0.065925\n",
       "7   type_ova    0.015240"
      ]
     },
     "execution_count": 20,
     "metadata": {},
     "output_type": "execute_result"
    }
   ],
   "source": [
    "# List the features sorted in descending order by feature importance\n",
    "imp_features = brfc_model.feature_importances_\n",
    "\n",
    "cols = X_encoded.columns\n",
    "\n",
    "imp_features_df = pd.DataFrame({\"feature\": cols, \"importance\": imp_features}).sort_values(\"importance\", ascending=False)\n",
    "imp_features_df.head(5)\n",
    "\n",
    "# add in others"
   ]
  },
  {
   "cell_type": "code",
   "execution_count": null,
   "id": "29ec186b-5f89-4b12-bb6b-b462b295945b",
   "metadata": {},
   "outputs": [],
   "source": []
  }
 ],
 "metadata": {
  "kernelspec": {
   "display_name": "mlenv",
   "language": "python",
   "name": "mlenv"
  },
  "language_info": {
   "codemirror_mode": {
    "name": "ipython",
    "version": 3
   },
   "file_extension": ".py",
   "mimetype": "text/x-python",
   "name": "python",
   "nbconvert_exporter": "python",
   "pygments_lexer": "ipython3",
   "version": "3.7.13"
  }
 },
 "nbformat": 4,
 "nbformat_minor": 5
}
