{
 "cells": [
  {
   "cell_type": "code",
   "execution_count": 1,
   "id": "42d35dde-bd7d-4236-b9c3-0adac79ef74d",
   "metadata": {},
   "outputs": [],
   "source": [
    "import numpy as np\n",
    "import pandas as pd\n",
    "from sklearn.metrics import balanced_accuracy_score\n",
    "from imblearn.metrics import classification_report_imbalanced\n",
    "from sklearn.model_selection import train_test_split\n",
    "from sklearn.preprocessing import StandardScaler, OneHotEncoder\n",
    "from imblearn.ensemble import BalancedRandomForestClassifier"
   ]
  },
  {
   "cell_type": "code",
   "execution_count": 2,
   "id": "2d8e7139-e58e-4357-9e33-d3b32f6c8d85",
   "metadata": {},
   "outputs": [],
   "source": [
    "# Import SQLAlchemy `automap` and other dependencies here\n",
    "import sqlalchemy\n",
    "from sqlalchemy.ext.automap import automap_base\n",
    "from sqlalchemy.orm import Session\n",
    "from sqlalchemy import create_engine, inspect, func"
   ]
  },
  {
   "cell_type": "code",
   "execution_count": 3,
   "id": "e2208408-2183-4795-b9f5-a451ce93e495",
   "metadata": {
    "tags": []
   },
   "outputs": [],
   "source": [
    "# Load the data\n",
    "# import clean anime csv (RTR)\n",
    "file_path = '../Data/anime_df.csv'\n",
    "clean_anime_df = pd.read_csv(file_path)\n",
    "\n",
    "# clean_anime_df.head()\n",
    "\n",
    "clean_anime_df = clean_anime_df.drop(columns=[\"title\"])\n"
   ]
  },
  {
   "cell_type": "code",
   "execution_count": 4,
   "id": "992256a1-436f-4af8-bcdc-af31c8f4318f",
   "metadata": {},
   "outputs": [
    {
     "data": {
      "text/plain": [
       "(9451, 16)"
      ]
     },
     "execution_count": 4,
     "metadata": {},
     "output_type": "execute_result"
    }
   ],
   "source": [
    "clean_anime_df.shape"
   ]
  },
  {
   "cell_type": "code",
   "execution_count": 5,
   "id": "5843341e-47fe-4e20-abf0-5136947c30b3",
   "metadata": {},
   "outputs": [
    {
     "data": {
      "text/html": [
       "<div>\n",
       "<style scoped>\n",
       "    .dataframe tbody tr th:only-of-type {\n",
       "        vertical-align: middle;\n",
       "    }\n",
       "\n",
       "    .dataframe tbody tr th {\n",
       "        vertical-align: top;\n",
       "    }\n",
       "\n",
       "    .dataframe thead th {\n",
       "        text-align: right;\n",
       "    }\n",
       "</style>\n",
       "<table border=\"1\" class=\"dataframe\">\n",
       "  <thead>\n",
       "    <tr style=\"text-align: right;\">\n",
       "      <th></th>\n",
       "      <th>type</th>\n",
       "      <th>status</th>\n",
       "      <th>source</th>\n",
       "      <th>rating</th>\n",
       "      <th>start_season</th>\n",
       "    </tr>\n",
       "  </thead>\n",
       "  <tbody>\n",
       "    <tr>\n",
       "      <th>0</th>\n",
       "      <td>tv</td>\n",
       "      <td>finished_airing</td>\n",
       "      <td>Non-Original</td>\n",
       "      <td>r</td>\n",
       "      <td>spring</td>\n",
       "    </tr>\n",
       "    <tr>\n",
       "      <th>1</th>\n",
       "      <td>tv</td>\n",
       "      <td>finished_airing</td>\n",
       "      <td>Non-Original</td>\n",
       "      <td>pg_13</td>\n",
       "      <td>fall</td>\n",
       "    </tr>\n",
       "    <tr>\n",
       "      <th>2</th>\n",
       "      <td>tv</td>\n",
       "      <td>finished_airing</td>\n",
       "      <td>Non-Original</td>\n",
       "      <td>r</td>\n",
       "      <td>spring</td>\n",
       "    </tr>\n",
       "    <tr>\n",
       "      <th>3</th>\n",
       "      <td>tv</td>\n",
       "      <td>finished_airing</td>\n",
       "      <td>Non-Original</td>\n",
       "      <td>pg_13</td>\n",
       "      <td>spring</td>\n",
       "    </tr>\n",
       "    <tr>\n",
       "      <th>4</th>\n",
       "      <td>movie</td>\n",
       "      <td>finished_airing</td>\n",
       "      <td>Non-Original</td>\n",
       "      <td>pg_13</td>\n",
       "      <td>summer</td>\n",
       "    </tr>\n",
       "  </tbody>\n",
       "</table>\n",
       "</div>"
      ],
      "text/plain": [
       "    type           status        source rating start_season\n",
       "0     tv  finished_airing  Non-Original      r       spring\n",
       "1     tv  finished_airing  Non-Original  pg_13         fall\n",
       "2     tv  finished_airing  Non-Original      r       spring\n",
       "3     tv  finished_airing  Non-Original  pg_13       spring\n",
       "4  movie  finished_airing  Non-Original  pg_13       summer"
      ]
     },
     "execution_count": 5,
     "metadata": {},
     "output_type": "execute_result"
    }
   ],
   "source": [
    "# Create our features (in testing)\n",
    "\n",
    "feature_df = clean_anime_df.drop(columns=[\"score\", \"anime_id\", \"sfw\", \"scored_by\", \"episodes\", \n",
    "                                          \"members\", \"favorites\", \"start_year\", \"studios\", \"demographics\", \"genres\"])\n",
    "\n",
    "feature_df.head()\n",
    "\n"
   ]
  },
  {
   "cell_type": "code",
   "execution_count": 6,
   "id": "6a7c2f76-8177-4949-b804-5acf25093ea7",
   "metadata": {},
   "outputs": [
    {
     "data": {
      "text/plain": [
       "type            object\n",
       "status          object\n",
       "source          object\n",
       "rating          object\n",
       "start_season    object\n",
       "dtype: object"
      ]
     },
     "execution_count": 6,
     "metadata": {},
     "output_type": "execute_result"
    }
   ],
   "source": [
    "feature_df.dtypes"
   ]
  },
  {
   "cell_type": "code",
   "execution_count": 7,
   "id": "fa3ad4d5-cac5-4a01-91a7-af665c073cce",
   "metadata": {},
   "outputs": [
    {
     "data": {
      "text/plain": [
       "['type', 'status', 'source', 'rating', 'start_season']"
      ]
     },
     "execution_count": 7,
     "metadata": {},
     "output_type": "execute_result"
    }
   ],
   "source": [
    "# Generate our categorical variable lists\n",
    "feature_df = feature_df.dtypes[feature_df.dtypes == \"object\"].index.tolist()\n",
    "\n",
    "feature_df"
   ]
  },
  {
   "cell_type": "code",
   "execution_count": 8,
   "id": "ce07ad66-4566-4c3e-955a-2a9b6dbba70d",
   "metadata": {},
   "outputs": [
    {
     "name": "stderr",
     "output_type": "stream",
     "text": [
      "/opt/anaconda3/envs/mlenv/lib/python3.7/site-packages/sklearn/utils/deprecation.py:87: FutureWarning: Function get_feature_names is deprecated; get_feature_names is deprecated in 1.0 and will be removed in 1.2. Please use get_feature_names_out instead.\n",
      "  warnings.warn(msg, category=FutureWarning)\n"
     ]
    },
    {
     "data": {
      "text/html": [
       "<div>\n",
       "<style scoped>\n",
       "    .dataframe tbody tr th:only-of-type {\n",
       "        vertical-align: middle;\n",
       "    }\n",
       "\n",
       "    .dataframe tbody tr th {\n",
       "        vertical-align: top;\n",
       "    }\n",
       "\n",
       "    .dataframe thead th {\n",
       "        text-align: right;\n",
       "    }\n",
       "</style>\n",
       "<table border=\"1\" class=\"dataframe\">\n",
       "  <thead>\n",
       "    <tr style=\"text-align: right;\">\n",
       "      <th></th>\n",
       "      <th>type_Non-Original</th>\n",
       "      <th>type_movie</th>\n",
       "      <th>type_ona</th>\n",
       "      <th>type_ova</th>\n",
       "      <th>type_special</th>\n",
       "      <th>type_tv</th>\n",
       "      <th>status_currently_airing</th>\n",
       "      <th>status_finished_airing</th>\n",
       "      <th>source_Non-Original</th>\n",
       "      <th>source_original</th>\n",
       "      <th>rating_g</th>\n",
       "      <th>rating_pg</th>\n",
       "      <th>rating_pg_13</th>\n",
       "      <th>rating_r</th>\n",
       "      <th>rating_r+</th>\n",
       "      <th>rating_rx</th>\n",
       "      <th>start_season_fall</th>\n",
       "      <th>start_season_spring</th>\n",
       "      <th>start_season_summer</th>\n",
       "      <th>start_season_winter</th>\n",
       "    </tr>\n",
       "  </thead>\n",
       "  <tbody>\n",
       "    <tr>\n",
       "      <th>0</th>\n",
       "      <td>0.0</td>\n",
       "      <td>0.0</td>\n",
       "      <td>0.0</td>\n",
       "      <td>0.0</td>\n",
       "      <td>0.0</td>\n",
       "      <td>1.0</td>\n",
       "      <td>0.0</td>\n",
       "      <td>1.0</td>\n",
       "      <td>1.0</td>\n",
       "      <td>0.0</td>\n",
       "      <td>0.0</td>\n",
       "      <td>0.0</td>\n",
       "      <td>0.0</td>\n",
       "      <td>1.0</td>\n",
       "      <td>0.0</td>\n",
       "      <td>0.0</td>\n",
       "      <td>0.0</td>\n",
       "      <td>1.0</td>\n",
       "      <td>0.0</td>\n",
       "      <td>0.0</td>\n",
       "    </tr>\n",
       "    <tr>\n",
       "      <th>1</th>\n",
       "      <td>0.0</td>\n",
       "      <td>0.0</td>\n",
       "      <td>0.0</td>\n",
       "      <td>0.0</td>\n",
       "      <td>0.0</td>\n",
       "      <td>1.0</td>\n",
       "      <td>0.0</td>\n",
       "      <td>1.0</td>\n",
       "      <td>1.0</td>\n",
       "      <td>0.0</td>\n",
       "      <td>0.0</td>\n",
       "      <td>0.0</td>\n",
       "      <td>1.0</td>\n",
       "      <td>0.0</td>\n",
       "      <td>0.0</td>\n",
       "      <td>0.0</td>\n",
       "      <td>1.0</td>\n",
       "      <td>0.0</td>\n",
       "      <td>0.0</td>\n",
       "      <td>0.0</td>\n",
       "    </tr>\n",
       "    <tr>\n",
       "      <th>2</th>\n",
       "      <td>0.0</td>\n",
       "      <td>0.0</td>\n",
       "      <td>0.0</td>\n",
       "      <td>0.0</td>\n",
       "      <td>0.0</td>\n",
       "      <td>1.0</td>\n",
       "      <td>0.0</td>\n",
       "      <td>1.0</td>\n",
       "      <td>1.0</td>\n",
       "      <td>0.0</td>\n",
       "      <td>0.0</td>\n",
       "      <td>0.0</td>\n",
       "      <td>0.0</td>\n",
       "      <td>1.0</td>\n",
       "      <td>0.0</td>\n",
       "      <td>0.0</td>\n",
       "      <td>0.0</td>\n",
       "      <td>1.0</td>\n",
       "      <td>0.0</td>\n",
       "      <td>0.0</td>\n",
       "    </tr>\n",
       "    <tr>\n",
       "      <th>3</th>\n",
       "      <td>0.0</td>\n",
       "      <td>0.0</td>\n",
       "      <td>0.0</td>\n",
       "      <td>0.0</td>\n",
       "      <td>0.0</td>\n",
       "      <td>1.0</td>\n",
       "      <td>0.0</td>\n",
       "      <td>1.0</td>\n",
       "      <td>1.0</td>\n",
       "      <td>0.0</td>\n",
       "      <td>0.0</td>\n",
       "      <td>0.0</td>\n",
       "      <td>1.0</td>\n",
       "      <td>0.0</td>\n",
       "      <td>0.0</td>\n",
       "      <td>0.0</td>\n",
       "      <td>0.0</td>\n",
       "      <td>1.0</td>\n",
       "      <td>0.0</td>\n",
       "      <td>0.0</td>\n",
       "    </tr>\n",
       "    <tr>\n",
       "      <th>4</th>\n",
       "      <td>0.0</td>\n",
       "      <td>1.0</td>\n",
       "      <td>0.0</td>\n",
       "      <td>0.0</td>\n",
       "      <td>0.0</td>\n",
       "      <td>0.0</td>\n",
       "      <td>0.0</td>\n",
       "      <td>1.0</td>\n",
       "      <td>1.0</td>\n",
       "      <td>0.0</td>\n",
       "      <td>0.0</td>\n",
       "      <td>0.0</td>\n",
       "      <td>1.0</td>\n",
       "      <td>0.0</td>\n",
       "      <td>0.0</td>\n",
       "      <td>0.0</td>\n",
       "      <td>0.0</td>\n",
       "      <td>0.0</td>\n",
       "      <td>1.0</td>\n",
       "      <td>0.0</td>\n",
       "    </tr>\n",
       "  </tbody>\n",
       "</table>\n",
       "</div>"
      ],
      "text/plain": [
       "   type_Non-Original  type_movie  type_ona  type_ova  type_special  type_tv  \\\n",
       "0                0.0         0.0       0.0       0.0           0.0      1.0   \n",
       "1                0.0         0.0       0.0       0.0           0.0      1.0   \n",
       "2                0.0         0.0       0.0       0.0           0.0      1.0   \n",
       "3                0.0         0.0       0.0       0.0           0.0      1.0   \n",
       "4                0.0         1.0       0.0       0.0           0.0      0.0   \n",
       "\n",
       "   status_currently_airing  status_finished_airing  source_Non-Original  \\\n",
       "0                      0.0                     1.0                  1.0   \n",
       "1                      0.0                     1.0                  1.0   \n",
       "2                      0.0                     1.0                  1.0   \n",
       "3                      0.0                     1.0                  1.0   \n",
       "4                      0.0                     1.0                  1.0   \n",
       "\n",
       "   source_original  rating_g  rating_pg  rating_pg_13  rating_r  rating_r+  \\\n",
       "0              0.0       0.0        0.0           0.0       1.0        0.0   \n",
       "1              0.0       0.0        0.0           1.0       0.0        0.0   \n",
       "2              0.0       0.0        0.0           0.0       1.0        0.0   \n",
       "3              0.0       0.0        0.0           1.0       0.0        0.0   \n",
       "4              0.0       0.0        0.0           1.0       0.0        0.0   \n",
       "\n",
       "   rating_rx  start_season_fall  start_season_spring  start_season_summer  \\\n",
       "0        0.0                0.0                  1.0                  0.0   \n",
       "1        0.0                1.0                  0.0                  0.0   \n",
       "2        0.0                0.0                  1.0                  0.0   \n",
       "3        0.0                0.0                  1.0                  0.0   \n",
       "4        0.0                0.0                  0.0                  1.0   \n",
       "\n",
       "   start_season_winter  \n",
       "0                  0.0  \n",
       "1                  0.0  \n",
       "2                  0.0  \n",
       "3                  0.0  \n",
       "4                  0.0  "
      ]
     },
     "execution_count": 8,
     "metadata": {},
     "output_type": "execute_result"
    }
   ],
   "source": [
    "# Create a OneHotEncoder instance\n",
    "enc = OneHotEncoder(sparse=False)\n",
    "\n",
    "# Fit and transform the OneHotEncoder using the categorical variable list\n",
    "encode_df = pd.DataFrame(enc.fit_transform(clean_anime_df[feature_df]))\n",
    "\n",
    "# Add the encoded variable names to the dataframe\n",
    "encode_df.columns = enc.get_feature_names(feature_df)\n",
    "encode_df.head()"
   ]
  },
  {
   "cell_type": "code",
   "execution_count": 9,
   "id": "46ce1163-3b5a-4a33-86ca-581a55db494e",
   "metadata": {},
   "outputs": [
    {
     "ename": "AttributeError",
     "evalue": "'list' object has no attribute 'merge'",
     "output_type": "error",
     "traceback": [
      "\u001b[0;31m---------------------------------------------------------------------------\u001b[0m",
      "\u001b[0;31mAttributeError\u001b[0m                            Traceback (most recent call last)",
      "\u001b[0;32m/var/folders/hl/4cqcnf5n0lj28r38f8528xl00000gp/T/ipykernel_30732/1767455721.py\u001b[0m in \u001b[0;36m<module>\u001b[0;34m\u001b[0m\n\u001b[1;32m      1\u001b[0m \u001b[0;31m# Merge one-hot encoded features and drop the originals\u001b[0m\u001b[0;34m\u001b[0m\u001b[0;34m\u001b[0m\u001b[0;34m\u001b[0m\u001b[0m\n\u001b[0;32m----> 2\u001b[0;31m \u001b[0mencoded_app_df\u001b[0m \u001b[0;34m=\u001b[0m \u001b[0mfeature_df\u001b[0m\u001b[0;34m.\u001b[0m\u001b[0mmerge\u001b[0m\u001b[0;34m(\u001b[0m\u001b[0mencode_df\u001b[0m\u001b[0;34m,\u001b[0m \u001b[0mleft_index\u001b[0m\u001b[0;34m=\u001b[0m\u001b[0;32mTrue\u001b[0m\u001b[0;34m,\u001b[0m \u001b[0mright_index\u001b[0m\u001b[0;34m=\u001b[0m\u001b[0;32mTrue\u001b[0m\u001b[0;34m)\u001b[0m\u001b[0;34m.\u001b[0m\u001b[0mdrop\u001b[0m\u001b[0;34m(\u001b[0m\u001b[0mfeature_df\u001b[0m\u001b[0;34m,\u001b[0m \u001b[0;36m1\u001b[0m\u001b[0;34m)\u001b[0m\u001b[0;34m\u001b[0m\u001b[0;34m\u001b[0m\u001b[0m\n\u001b[0m\u001b[1;32m      3\u001b[0m \u001b[0;34m\u001b[0m\u001b[0m\n\u001b[1;32m      4\u001b[0m \u001b[0mencoded_app_df\u001b[0m\u001b[0;34m.\u001b[0m\u001b[0mhead\u001b[0m\u001b[0;34m(\u001b[0m\u001b[0;34m)\u001b[0m\u001b[0;34m\u001b[0m\u001b[0;34m\u001b[0m\u001b[0m\n",
      "\u001b[0;31mAttributeError\u001b[0m: 'list' object has no attribute 'merge'"
     ]
    }
   ],
   "source": [
    "# Merge one-hot encoded features and drop the originals\n",
    "encoded_app_df = feature_df.merge(encode_df, left_index=True, right_index=True).drop(feature_df, 1)\n",
    "\n",
    "encoded_app_df.head()"
   ]
  },
  {
   "cell_type": "code",
   "execution_count": null,
   "id": "9f76a2ab-54dd-4d98-b82f-4369d84ec550",
   "metadata": {
    "tags": []
   },
   "outputs": [],
   "source": [
    "\n",
    "# Split our preprocessed data into our features and target arrays\n",
    "y = encoded_app_df[\"score\"].values\n",
    "X = encoded_app_df.drop([\"score\"], 1).values\n",
    "\n",
    "# Split the preprocessed data into a training and testing dataset\n",
    "X_train, X_test, y_train, y_test = train_test_split(X, y, random_state=1, stratify=y)"
   ]
  },
  {
   "cell_type": "code",
   "execution_count": null,
   "id": "de1ffd1e-09b7-4c60-b8f5-e78b7bb2cddf",
   "metadata": {},
   "outputs": [],
   "source": [
    "# Create a StandardScaler instances\n",
    "scaler = StandardScaler()\n",
    "\n",
    "# Fit the StandardScaler\n",
    "X_scaler = scaler.fit(X_train)\n",
    "\n",
    "# Scale the data\n",
    "X_train_scaled = X_scaler.transform(X_train)\n",
    "X_test_scaled = X_scaler.transform(X_test)"
   ]
  },
  {
   "cell_type": "code",
   "execution_count": null,
   "id": "493593c1-0210-4778-891c-6d520c9c3b55",
   "metadata": {},
   "outputs": [],
   "source": [
    "# Resample the training data with the BalancedRandomForestClassifier\n",
    "# model / fit / predict\n",
    "\n",
    "# model\n",
    "brf_model = BalancedRandomForestClassifier(n_estimators= 1000,\n",
    "                                           random_state=1)\n",
    "# fit model\n",
    "brf_model = brf_model.fit(X_train, y_train)\n",
    "\n",
    "predictions = brf_model.predict(X_test)\n"
   ]
  },
  {
   "cell_type": "code",
   "execution_count": null,
   "id": "812b8727-d47a-4359-9396-32dc470faca0",
   "metadata": {},
   "outputs": [],
   "source": [
    "# Calculated the balanced accuracy score\n",
    "balanced_accuracy_score(y_test, predictions)"
   ]
  },
  {
   "cell_type": "code",
   "execution_count": null,
   "id": "d6c3b7bf-5415-42a0-bab7-520fa62a66cf",
   "metadata": {},
   "outputs": [],
   "source": [
    "# Print the imbalanced classification report\n",
    "print(classification_report_imbalanced(y_test, predictions))"
   ]
  },
  {
   "cell_type": "code",
   "execution_count": null,
   "id": "618b4023-ee53-47bd-933d-eb657000a13d",
   "metadata": {},
   "outputs": [],
   "source": []
  },
  {
   "cell_type": "code",
   "execution_count": null,
   "id": "c1be6fcc-ccea-44fd-8a5b-c48b1f10cc9a",
   "metadata": {},
   "outputs": [],
   "source": []
  },
  {
   "cell_type": "code",
   "execution_count": null,
   "id": "56475462-bbf9-4db5-a40e-21cbb8407e77",
   "metadata": {},
   "outputs": [],
   "source": []
  }
 ],
 "metadata": {
  "kernelspec": {
   "display_name": "mlenv",
   "language": "python",
   "name": "mlenv"
  },
  "language_info": {
   "codemirror_mode": {
    "name": "ipython",
    "version": 3
   },
   "file_extension": ".py",
   "mimetype": "text/x-python",
   "name": "python",
   "nbconvert_exporter": "python",
   "pygments_lexer": "ipython3",
   "version": "3.7.13"
  }
 },
 "nbformat": 4,
 "nbformat_minor": 5
}
